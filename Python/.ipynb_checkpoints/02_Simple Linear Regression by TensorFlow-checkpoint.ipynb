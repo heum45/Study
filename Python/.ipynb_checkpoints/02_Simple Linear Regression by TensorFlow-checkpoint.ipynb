{
 "cells": [
  {
   "cell_type": "markdown",
   "metadata": {},
   "source": [
    "# [부스트코스] 텐서플로우로 시작하는 딥러닝 기초\n",
    "## 모두의 딥러닝 시즌 2"
   ]
  },
  {
   "cell_type": "markdown",
   "metadata": {},
   "source": [
    "2019.08.02"
   ]
  },
  {
   "cell_type": "markdown",
   "metadata": {},
   "source": [
    ">### <b>Lab 02: Simple Linear Regression을 TensorFlow 로 구현하기</b>"
   ]
  },
  {
   "cell_type": "markdown",
   "metadata": {},
   "source": [
    "Linear Regression code"
   ]
  },
  {
   "cell_type": "code",
   "execution_count": 2,
   "metadata": {
    "ExecuteTime": {
     "end_time": "2019-08-02T15:51:36.950407Z",
     "start_time": "2019-08-02T15:51:36.677111Z"
    }
   },
   "outputs": [
    {
     "name": "stdout",
     "output_type": "stream",
     "text": [
      "    0|     2.452|     0.376| 45.660004\n",
      "   10|     1.104|  0.003398|  0.206336\n",
      "   20|     1.013|  -0.02091|  0.001026\n",
      "   30|     1.007|  -0.02184|  0.000093\n",
      "   40|     1.006|  -0.02123|  0.000083\n",
      "   50|     1.006|  -0.02053|  0.000077\n",
      "   60|     1.005|  -0.01984|  0.000072\n",
      "   70|     1.005|  -0.01918|  0.000067\n",
      "   80|     1.005|  -0.01854|  0.000063\n",
      "   90|     1.005|  -0.01793|  0.000059\n",
      "  100|     1.005|  -0.01733|  0.000055\n"
     ]
    }
   ],
   "source": [
    "import tensorflow as tf\n",
    "tf.enable_eager_execution()  # 초기에 바로 실행하기 위해\n",
    "\n",
    "# Data : 데이터 준비 \n",
    "x_data = [1, 2, 3, 4, 5]\n",
    "y_data = [1, 2, 3, 4, 5]\n",
    "\n",
    "# W, b initialize : W와 b에 초기값 부여\n",
    "W = tf.Variable(2.9)\n",
    "b = tf.Variable(0.5)\n",
    "\n",
    "# learning rate initialize\n",
    "learning_rate = 0.01  # W, b값을 얼마만큼 변화시킬지를 지정. 즉, 보폭을 얼마만큼 할것인가\n",
    "\n",
    "# Gradiant descent\n",
    "for i in range(100 + 1): # 101번 반복\n",
    "    # Gradiant descent\n",
    "    with tf.GradientTape() as tape:      # 변수(W, b)의 변화 정보를 tape에 기록\n",
    "        hypothesis = W * x_data + b      # 가설 정의\n",
    "        cost = tf.reduce_mean(tf.square(hypothesis - y_data)) # cost(비용) 함수 정의 / (가설-실제값)^2 을 데이터 갯수로 나눈 것\n",
    "        \n",
    "    W_grad, b_grad = tape.gradient(cost, [W, b])  \n",
    "    # tape의 gradient 함수를 통하여 cost의 W, b값 즉, 경사도(미분값)을 구하여 tuple로 반환 \n",
    "    \n",
    "    W.assign_sub(learning_rate * W_grad)  # assign_sub : 뺀 값을 그 값에 할당 / learning_rate를 곱한것을 뺀 값을 반영 \n",
    "    b.assign_sub(learning_rate * b_grad)\n",
    "    if i % 10 == 0:                       # i값이 10의 배수가 될때 마다 \n",
    "        print(\"{:5}|{:10.4}|{:10.4}|{:10.6f}\".format(i, W.numpy(), b.numpy(), cost)) # 값 출력\n",
    "        "
   ]
  },
  {
   "cell_type": "markdown",
   "metadata": {},
   "source": [
    "   "
   ]
  },
  {
   "cell_type": "markdown",
   "metadata": {},
   "source": [
    "Predict"
   ]
  },
  {
   "cell_type": "code",
   "execution_count": 3,
   "metadata": {
    "ExecuteTime": {
     "end_time": "2019-08-02T15:51:43.788115Z",
     "start_time": "2019-08-02T15:51:43.782166Z"
    }
   },
   "outputs": [
    {
     "name": "stdout",
     "output_type": "stream",
     "text": [
      "tf.Tensor(5.00667, shape=(), dtype=float32)\n",
      "tf.Tensor(2.4946702, shape=(), dtype=float32)\n"
     ]
    }
   ],
   "source": [
    "print(W * 5 + b)\n",
    "print(W * 2.5 + b)"
   ]
  }
 ],
 "metadata": {
  "kernelspec": {
   "display_name": "Python 3",
   "language": "python",
   "name": "python3"
  },
  "language_info": {
   "codemirror_mode": {
    "name": "ipython",
    "version": 3
   },
   "file_extension": ".py",
   "mimetype": "text/x-python",
   "name": "python",
   "nbconvert_exporter": "python",
   "pygments_lexer": "ipython3",
   "version": "3.7.3"
  },
  "toc": {
   "base_numbering": 1,
   "nav_menu": {},
   "number_sections": false,
   "sideBar": true,
   "skip_h1_title": false,
   "title_cell": "Table of Contents",
   "title_sidebar": "Contents",
   "toc_cell": false,
   "toc_position": {},
   "toc_section_display": true,
   "toc_window_display": false
  },
  "varInspector": {
   "cols": {
    "lenName": 16,
    "lenType": 16,
    "lenVar": 40
   },
   "kernels_config": {
    "python": {
     "delete_cmd_postfix": "",
     "delete_cmd_prefix": "del ",
     "library": "var_list.py",
     "varRefreshCmd": "print(var_dic_list())"
    },
    "r": {
     "delete_cmd_postfix": ") ",
     "delete_cmd_prefix": "rm(",
     "library": "var_list.r",
     "varRefreshCmd": "cat(var_dic_list()) "
    }
   },
   "types_to_exclude": [
    "module",
    "function",
    "builtin_function_or_method",
    "instance",
    "_Feature"
   ],
   "window_display": false
  }
 },
 "nbformat": 4,
 "nbformat_minor": 2
}
